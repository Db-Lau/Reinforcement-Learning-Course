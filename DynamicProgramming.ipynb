{
  "cells": [
    {
      "cell_type": "markdown",
      "metadata": {
        "id": "_KLURrYHycqD"
      },
      "source": [
        "# Set up"
      ]
    },
    {
      "cell_type": "code",
      "execution_count": 1,
      "metadata": {},
      "outputs": [],
      "source": [
        "import gym\n",
        "import numpy as np\n",
        "import matplotlib.pyplot as plt\n",
        "import random\n",
        "import pandas as pd\n",
        "import seaborn as sns\n",
        "\n",
        "env = gym.make('CliffWalking-v0')"
      ]
    },
    {
      "cell_type": "markdown",
      "metadata": {
        "id": "hY-nBquS4S4j"
      },
      "source": [
        "# Policy Iteration Agent"
      ]
    },
    {
      "cell_type": "code",
      "execution_count": 2,
      "metadata": {
        "id": "NYLjRZPg4cQj"
      },
      "outputs": [],
      "source": [
        "class PolicyIteration:\n",
        "  def __init__(self,gamma=1,theta=0.0001,epsilon=0.1):\n",
        "    self.gamma, self.epsilon = gamma, epsilon\n",
        "    #theta is an approximation error threshold\n",
        "    self.theta = theta\n",
        "\n",
        "  def best_action(self, V, state):\n",
        "    action_value_list = []\n",
        "    for action in range(len(env.P[state])):\n",
        "      prob, next_state, r, _ = env.P[state][action][0] #as the next state is deterministic for a state-action pair\n",
        "      action_value = r + self.gamma * V[next_state]\n",
        "      action_value_list.append(action_value)\n",
        "    best_action = np.argmax(action_value_list)\n",
        "    return best_action\n",
        "\n",
        "  def update_policy(self, V):\n",
        "    new_policy = []\n",
        "    for state in range(env.nS):\n",
        "      best_action = self.best_action(V, state)\n",
        "      new_policy.append(best_action)\n",
        "    return new_policy\n",
        "\n",
        "  def update_V(self, V, state, policy):\n",
        "    action = policy[state]\n",
        "    prob, next_state, r, _ = env.P[state][action][0]\n",
        "    new_state_value = r + self.gamma * V[next_state]\n",
        "    return new_state_value\n",
        "  \n",
        "  def play(self, V, max_steps=70):\n",
        "    t = 0\n",
        "    state1 = env.reset() \n",
        "    done = False\n",
        "    optimal_reward = 0\n",
        "    while t < max_steps and not done:\n",
        "      action1 = self.best_action(V, state1)\n",
        "      state2, reward, done, info = env.step(action1)\n",
        "      state1= state2\n",
        "      t += 1\n",
        "      optimal_reward += reward\n",
        "    return optimal_reward\n",
        "\n",
        "  def learning(self, max_iterations=50):\n",
        "    V = np.random.rand(env.observation_space.n)\n",
        "    V[-1] = 0 \n",
        "    optimal_rewards_p = np.zeros(max_iterations)\n",
        "    #initial a random policy that will be updated in each iteration\n",
        "    policy = []\n",
        "    for i in range(0,48):\n",
        "      n = random.randint(0,3)\n",
        "      policy.append(n)\n",
        "    \n",
        "    for i in range(max_iterations):\n",
        "      #initial V_new and V_diff at the start of each iteration\n",
        "      V_new = []\n",
        "      V_diff = []\n",
        "\n",
        "      #policy evaluation in each iteration\n",
        "      for state in range(env.nS):\n",
        "        new_state_value = self.update_V(V, state, policy) \n",
        "        value_diff = np.abs(new_state_value - V[state])\n",
        "        V_new.append(new_state_value)\n",
        "        V_diff.append(value_diff)\n",
        "      \n",
        "      #policy improvement in each iteration\n",
        "      if np.max(V_diff[:-1]) > self.theta: \n",
        "        #update V\n",
        "        V = V_new\n",
        "        V[-1] = 0\n",
        "        #update policy\n",
        "        new_policy = self.update_policy(V)\n",
        "        if policy == new_policy:\n",
        "          r = i-1\n",
        "          optimal_rewards_p[i:] = optimal_rewards_p[r]\n",
        "          break #CHECK IF IT IS CORRECT TO BREAK HERE\n",
        "        else:\n",
        "          policy = new_policy\n",
        "          optimal_reward = self.play(V)\n",
        "          optimal_rewards_p[i] += optimal_reward\n",
        "      else:\n",
        "        r = i-1\n",
        "        optimal_rewards_p[i:] = optimal_rewards_p[r]\n",
        "        break #CHECK IF IT IS CORRECT TO BREAK HERE\n",
        "        \n",
        "    #return V at the end of the iteration\n",
        "    return V, optimal_rewards_p\n",
        "  "
      ]
    },
    {
      "cell_type": "markdown",
      "metadata": {},
      "source": [
        "# Value Iteration Agent"
      ]
    },
    {
      "cell_type": "code",
      "execution_count": 3,
      "metadata": {},
      "outputs": [],
      "source": [
        "class ValueIteration:\n",
        "  def __init__(self,gamma=1,theta=0.0001,epsilon=0.1):\n",
        "    self.gamma, self.epsilon = gamma, epsilon\n",
        "    #theta is an approximation error threshold\n",
        "    self.theta = theta\n",
        "\n",
        "  def best_action(self, V, state):\n",
        "    action_value_list = []\n",
        "    for action in range(len(env.P[state])):\n",
        "      prob, next_state, r, _ = env.P[state][action][0] #as the next state is deterministic for a state-action pair\n",
        "      action_value = r + self.gamma * V[next_state]\n",
        "      action_value_list.append(action_value)\n",
        "    best_action = np.argmax(action_value_list)\n",
        "    return best_action\n",
        "\n",
        "  def new_V(self, V, state):\n",
        "    best_action = self.best_action(V, state)\n",
        "    prob, next_state, r, _ = env.P[state][best_action][0]\n",
        "    new_state_value = r + self.gamma * V[next_state]\n",
        "    return new_state_value\n",
        "  \n",
        "  def learning(self, max_iterations=50, max_steps=70):\n",
        "    V = np.random.rand(env.observation_space.n)\n",
        "    V[-1] = 0 \n",
        "    optimal_rewards = np.zeros(max_iterations)\n",
        "\n",
        "    for i in range(max_iterations):\n",
        "      #initial V_new and V_diff at the start of each iteration\n",
        "      V_new = []\n",
        "      V_diff = []\n",
        "\n",
        "      #sweep through all states in each iteration\n",
        "      for state in range(env.nS):\n",
        "        new_state_value = self.new_V(V, state)\n",
        "        value_diff = np.abs(new_state_value - V[state])\n",
        "        V_new.append(new_state_value)\n",
        "        V_diff.append(value_diff)\n",
        "      \n",
        "      #decide to continue to next iteration or not\n",
        "      if np.max(V_diff[:-1]) > self.theta: #Why V_diff last entry always is 1?\n",
        "        V = V_new\n",
        "        V[-1] = 0\n",
        "\n",
        "        #play one episode with the latest V \n",
        "        t = 0\n",
        "        state1 = env.reset() \n",
        "        done = False\n",
        "        optimal_reward = 0\n",
        "\n",
        "        while t < max_steps and not done:\n",
        "          action1 = self.best_action(V, state1)\n",
        "          state2, reward, done, info = env.step(action1)\n",
        "          state1= state2\n",
        "          t += 1\n",
        "          optimal_reward += reward\n",
        "        optimal_rewards[i] += optimal_reward\n",
        "\n",
        "      else:\n",
        "        r = i-1\n",
        "        optimal_rewards[i:] = optimal_rewards[r] #V unchanged and optimal policy will be the same as before\n",
        "        break\n",
        "        \n",
        "    #return V at the end of the iteration\n",
        "    return V, optimal_rewards\n",
        "  "
      ]
    },
    {
      "cell_type": "markdown",
      "metadata": {},
      "source": [
        "# Training"
      ]
    },
    {
      "cell_type": "code",
      "execution_count": 4,
      "metadata": {
        "id": "qdQBZBC9U7K1"
      },
      "outputs": [],
      "source": [
        "p1 = PolicyIteration()\n",
        "V_p, optimal_rewards_p = p1.learning()\n",
        "\n",
        "v1 = ValueIteration()\n",
        "V_v, optimal_rewards_v = v1.learning()\n"
      ]
    },
    {
      "cell_type": "markdown",
      "metadata": {},
      "source": [
        "# Getting best policy"
      ]
    },
    {
      "cell_type": "code",
      "execution_count": 8,
      "metadata": {},
      "outputs": [],
      "source": [
        "best_action_list = []\n",
        "for state in range(env.nS):\n",
        "  action_value_list = []\n",
        "  for action in range(len(env.P[state])):\n",
        "    prob, next_state, r, _ = env.P[state][action][0] \n",
        "    action_value = r + 1 * V_p[next_state]\n",
        "    action_value_list.append(action_value)\n",
        "    best_action = np.argmax(action_value_list)\n",
        "  best_action_list.append(best_action)\n",
        "    "
      ]
    },
    {
      "cell_type": "code",
      "execution_count": 9,
      "metadata": {},
      "outputs": [
        {
          "data": {
            "text/html": [
              "<div>\n",
              "<style scoped>\n",
              "    .dataframe tbody tr th:only-of-type {\n",
              "        vertical-align: middle;\n",
              "    }\n",
              "\n",
              "    .dataframe tbody tr th {\n",
              "        vertical-align: top;\n",
              "    }\n",
              "\n",
              "    .dataframe thead th {\n",
              "        text-align: right;\n",
              "    }\n",
              "</style>\n",
              "<table border=\"1\" class=\"dataframe\">\n",
              "  <thead>\n",
              "    <tr style=\"text-align: right;\">\n",
              "      <th></th>\n",
              "      <th>0</th>\n",
              "      <th>1</th>\n",
              "      <th>2</th>\n",
              "      <th>3</th>\n",
              "      <th>4</th>\n",
              "      <th>5</th>\n",
              "      <th>6</th>\n",
              "      <th>7</th>\n",
              "      <th>8</th>\n",
              "      <th>9</th>\n",
              "      <th>10</th>\n",
              "      <th>11</th>\n",
              "    </tr>\n",
              "  </thead>\n",
              "  <tbody>\n",
              "    <tr>\n",
              "      <th>0</th>\n",
              "      <td>&gt;</td>\n",
              "      <td>&gt;</td>\n",
              "      <td>&gt;</td>\n",
              "      <td>&gt;</td>\n",
              "      <td>&gt;</td>\n",
              "      <td>&gt;</td>\n",
              "      <td>&gt;</td>\n",
              "      <td>&gt;</td>\n",
              "      <td>&gt;</td>\n",
              "      <td>&gt;</td>\n",
              "      <td>&gt;</td>\n",
              "      <td>v</td>\n",
              "    </tr>\n",
              "    <tr>\n",
              "      <th>1</th>\n",
              "      <td>&gt;</td>\n",
              "      <td>&gt;</td>\n",
              "      <td>&gt;</td>\n",
              "      <td>&gt;</td>\n",
              "      <td>&gt;</td>\n",
              "      <td>&gt;</td>\n",
              "      <td>&gt;</td>\n",
              "      <td>&gt;</td>\n",
              "      <td>&gt;</td>\n",
              "      <td>&gt;</td>\n",
              "      <td>&gt;</td>\n",
              "      <td>v</td>\n",
              "    </tr>\n",
              "    <tr>\n",
              "      <th>2</th>\n",
              "      <td>&gt;</td>\n",
              "      <td>&gt;</td>\n",
              "      <td>&gt;</td>\n",
              "      <td>&gt;</td>\n",
              "      <td>&gt;</td>\n",
              "      <td>&gt;</td>\n",
              "      <td>&gt;</td>\n",
              "      <td>&gt;</td>\n",
              "      <td>&gt;</td>\n",
              "      <td>&gt;</td>\n",
              "      <td>&gt;</td>\n",
              "      <td>v</td>\n",
              "    </tr>\n",
              "    <tr>\n",
              "      <th>3</th>\n",
              "      <td>^</td>\n",
              "      <td>^</td>\n",
              "      <td>^</td>\n",
              "      <td>^</td>\n",
              "      <td>^</td>\n",
              "      <td>^</td>\n",
              "      <td>^</td>\n",
              "      <td>^</td>\n",
              "      <td>^</td>\n",
              "      <td>^</td>\n",
              "      <td>&gt;</td>\n",
              "      <td>&gt;</td>\n",
              "    </tr>\n",
              "  </tbody>\n",
              "</table>\n",
              "</div>"
            ],
            "text/plain": [
              "  0  1  2  3  4  5  6  7  8  9  10 11\n",
              "0  >  >  >  >  >  >  >  >  >  >  >  v\n",
              "1  >  >  >  >  >  >  >  >  >  >  >  v\n",
              "2  >  >  >  >  >  >  >  >  >  >  >  v\n",
              "3  ^  ^  ^  ^  ^  ^  ^  ^  ^  ^  >  >"
            ]
          },
          "execution_count": 9,
          "metadata": {},
          "output_type": "execute_result"
        }
      ],
      "source": [
        "import pandas as pd\n",
        "actions = [\"^\", \">\", \"v\", \"<\"]\n",
        "policy_arrows = [actions[i] for i in best_action_list]\n",
        "pd.DataFrame(np.array(policy_arrows).reshape(4,12))"
      ]
    },
    {
      "cell_type": "markdown",
      "metadata": {},
      "source": [
        "# Comparison between Policy Iteration and Value Iteration"
      ]
    },
    {
      "cell_type": "code",
      "execution_count": 7,
      "metadata": {},
      "outputs": [
        {
          "data": {
            "text/plain": [
              "<matplotlib.legend.Legend at 0x26f5227f610>"
            ]
          },
          "execution_count": 7,
          "metadata": {},
          "output_type": "execute_result"
        },
        {
          "data": {
            "image/png": "[encoded data removed]",
            "text/plain": [
              "<Figure size 600x400 with 1 Axes>"
            ]
          },
          "metadata": {
            "needs_background": "light"
          },
          "output_type": "display_data"
        }
      ],
      "source": [
        "fig = plt.figure(dpi=100)\n",
        "ax = plt.axes()\n",
        "p_v_matrix = np.array([optimal_rewards_v, optimal_rewards_p]).transpose()\n",
        "df = pd.DataFrame(p_v_matrix, columns = [\"Value Iteration\", \"Policy Iteration\"])\n",
        "\n",
        "ax = sns.lineplot(data=df, x = df.index, y = \"Value Iteration\")\n",
        "ax = sns.lineplot(data=df, x = df.index, y = \"Policy Iteration\")\n",
        "ax.set(title=\"Cliff walking\", xlabel=\"Iterations\", ylabel = \"Sum of rewards per episode\", yticks = range(-100, 0, 25))\n",
        "ax.set_ylim(-100,0)\n",
        "ax.set_xlim(0,50)\n",
        "ax.legend([\"Value Iteration\", \"Policy Iteration\"])"
      ]
    }
  ],
  "metadata": {
    "colab": {
      "collapsed_sections": [],
      "name": "SMARTER_RL_1-Value_Policy_Iteration_Edited.ipynb",
      "provenance": []
    },
    "kernelspec": {
      "display_name": "Python 3",
      "name": "python3"
    },
    "language_info": {
      "codemirror_mode": {
        "name": "ipython",
        "version": 3
      },
      "file_extension": ".py",
      "mimetype": "text/x-python",
      "name": "python",
      "nbconvert_exporter": "python",
      "pygments_lexer": "ipython3",
      "version": "3.9.2"
    }
  },
  "nbformat": 4,
  "nbformat_minor": 0
}
