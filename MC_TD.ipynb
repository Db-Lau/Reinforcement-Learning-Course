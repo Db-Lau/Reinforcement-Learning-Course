{
  "cells": [
    {
      "cell_type": "markdown",
      "metadata": {
        "id": "eP26CL6-HQQM"
      },
      "source": [
        "### Setup\n"
      ]
    },
    {
      "cell_type": "code",
      "execution_count": 9,
      "metadata": {
        "id": "_qNYSJkw_sCq"
      },
      "outputs": [],
      "source": [
        "import gym\n",
        "import numpy as np\n",
        "import pandas as pd\n",
        "import matplotlib.pyplot as plt \n",
        "import seaborn as sns\n",
        "import random\n",
        "\n",
        "env = gym.make('CliffWalking-v0')\n",
        "\n",
        "#Ref: pseudo codes from Sutton book and inspiration of graphs from https://github.com/ShangtongZhang/reinforcement-learning-an-introduction/blob/master/chapter06/cliff_walking.py \n"
      ]
    },
    {
      "cell_type": "markdown",
      "metadata": {
        "id": "dPPreBrYam6K"
      },
      "source": [
        "### Parent class for temporal difference algorithms\n",
        "- this part captures the common steps of different TD algorithms"
      ]
    },
    {
      "cell_type": "code",
      "execution_count": 2,
      "metadata": {
        "id": "WP-OGhdbMYgO"
      },
      "outputs": [],
      "source": [
        "class TemporalDifference:\n",
        "  def __init__(self, epsilon = 0.1, max_steps = 70, alpha = 0.5, gamma = 1, total_episode = 500, no_run = 101):\n",
        "    self.epsilon, self.max_steps, self.alpha, self.gamma, self.total_episode = epsilon, max_steps, alpha, gamma, total_episode\n",
        "    self.no_run = list(range(1,no_run))\n",
        "    \n",
        "\n",
        "  #Function to choose the next action\n",
        "  def choose_action(self, Q, state):\n",
        "      if np.random.uniform(0, 1) < self.epsilon:\n",
        "          action = env.action_space.sample()\n",
        "      else:\n",
        "          action = np.argmax(Q[state, :])\n",
        "      return action\n",
        "\n",
        "  def learning(self, learning_algorithm):\n",
        "    #Initializing the Q-matrix and sum of rewards per episode\n",
        "    Q = np.zeros((env.observation_space.n, env.action_space.n))\n",
        "    total_optimal_rewards = np.zeros(self.total_episode)\n",
        "\n",
        "    # Starting learning\n",
        "    for i in self.no_run: \n",
        "      for episode in range(self.total_episode):\n",
        "        t = 0\n",
        "        state1 = env.reset() \n",
        "        action1 = self.choose_action(Q, state1)\n",
        "        done = False\n",
        "\n",
        "        while t < self.max_steps and not done:\n",
        "          #Getting the next state\n",
        "          state2, reward, done, info = env.step(action1)\n",
        "          action2 = self.choose_action(Q, state2) #the difference between SARSA and Q-Learning\n",
        "\n",
        "          #Learning the Q-value\n",
        "          Q = learning_algorithm(Q, state1, state2, reward, action1, action2)\n",
        "\n",
        "          state1 = state2\n",
        "          action1 = action2\n",
        "            \n",
        "          #Updating timestep\n",
        "          t += 1\n",
        "\n",
        "        #run one episode with the epsilon-greedy policy with the learnt Q\n",
        "        t_optimal = 0\n",
        "        state1 = env.reset() \n",
        "        done = False\n",
        "        optimal_reward = 0\n",
        "        while t_optimal < self.max_steps and not done:\n",
        "          action1 = self.choose_action(Q, state1)\n",
        "          state2, reward, done, info = env.step(action1)\n",
        "          state1= state2\n",
        "          t_optimal += 1\n",
        "          optimal_reward += reward\n",
        "\n",
        "        total_optimal_rewards[episode] += optimal_reward\n",
        "    return Q, total_optimal_rewards          \n",
        "\n",
        "  # find best policy using the latest Q value\n",
        "  def best_policy(self, Q):\n",
        "    policy = np.argmax(Q, axis = -1)\n",
        "    actions = [\"^\", \">\", \"v\", \"<\"]\n",
        "    policy_arrows = [actions[i] for i in policy]\n",
        "    return pd.DataFrame(np.array(policy_arrows).reshape(4,12))\n",
        "    \n",
        "\n",
        "  def __repr__(self): #for description of object\n",
        "    return f\"Sarsa({self.epsilon}, {self.max_steps}, {self.alpha}, {self.gamma}, {self.total_episode}, {len(self.no_run)})\"\n",
        "  "
      ]
    },
    {
      "cell_type": "markdown",
      "metadata": {
        "id": "wT26wjPzatt5"
      },
      "source": [
        "### Subclasses for SARSA and Q-Learning algorithms\n",
        "- this part captures the different parts of different TD algorithms"
      ]
    },
    {
      "cell_type": "code",
      "execution_count": 3,
      "metadata": {
        "id": "lRtNwzDbO41t"
      },
      "outputs": [],
      "source": [
        "class Sarsa(TemporalDifference):\n",
        "  #Function to learn the Q-value for a SARSA agent\n",
        "  def update_Q(self, Q, state, state2, reward, action, action2):\n",
        "      predict = Q[state, action]\n",
        "      target = reward + self.gamma * Q[state2, action2]\n",
        "      Q[state, action] = Q[state, action] + self.alpha * (target - predict)\n",
        "      Q[47, :] = 0\n",
        "      return Q\n",
        "\n",
        "  def learning(self):\n",
        "    print(\"Sarsas learning\")\n",
        "    return super().learning(self.update_Q)\n",
        "\n"
      ]
    },
    {
      "cell_type": "code",
      "execution_count": 4,
      "metadata": {
        "id": "sMuLSWodZP11"
      },
      "outputs": [],
      "source": [
        "class Q_Learning(TemporalDifference):\n",
        "  #Function to learn the Q-value for a Q-Learning agent\n",
        "  def update_Q(self, Q, state, state2, reward, action, *args):\n",
        "      predict = Q[state, action]\n",
        "      action_best = np.argmax(Q[state2,:], axis = -1)\n",
        "      target = reward + self.gamma * Q[state2, action_best]\n",
        "      Q[state, action] = Q[state, action] + self.alpha * (target - predict)\n",
        "      Q[47, :] = 0\n",
        "      return Q\n",
        "\n",
        "  def learning(self):\n",
        "    print(\"Q-Learning learning\")\n",
        "    return super().learning(self.update_Q)"
      ]
    },
    {
      "cell_type": "markdown",
      "metadata": {},
      "source": [
        "### Monte Carlo Method (with Exploring Start)"
      ]
    },
    {
      "cell_type": "code",
      "execution_count": 14,
      "metadata": {},
      "outputs": [],
      "source": [
        "class MonteCarlo:\n",
        "  def __init__(self, epsilon = 0.1, max_steps = 70, total_episode = 500, no_run = 101):\n",
        "    self.epsilon, self.max_steps, self.total_episode = epsilon, max_steps, total_episode\n",
        "    self.no_run = list(range(1,no_run))\n",
        "\n",
        "  #choose action with epsilon greedy policy\n",
        "  def choose_action(self, Q, state):\n",
        "    if np.random.uniform(0, 1) < self.epsilon:\n",
        "        action = env.action_space.sample()\n",
        "    else:\n",
        "        action = np.argmax(Q[state, :])\n",
        "    return action\n",
        "\n",
        "  def play(self, Q): \n",
        "    t = 0\n",
        "    state1 = env.reset() \n",
        "    done = False\n",
        "    optimal_reward = 0\n",
        "\n",
        "    while t < self.max_steps and not done:\n",
        "      action1 = self.choose_action(Q, state1)\n",
        "      state2, reward, done, info = env.step(action1)\n",
        "      state1= state2\n",
        "      t += 1\n",
        "      optimal_reward += reward\n",
        "    return optimal_reward\n",
        "\n",
        "  def learning(self):\n",
        "    #initialize the Q-matrix \n",
        "    Q = np.zeros((env.observation_space.n, env.action_space.n))\n",
        "    #intialize a random policy\n",
        "    policy = []\n",
        "    for i in range(0,48):\n",
        "      n = random.randint(0,3)\n",
        "      policy.append(n)\n",
        "    #create an empty list to store returns for state-action pairs\n",
        "    G = np.zeros((env.observation_space.n, env.action_space.n))\n",
        "    #create an empty list to store the no. of times a state-action pair has been visited\n",
        "    N = np.zeros((env.observation_space.n, env.action_space.n))\n",
        "    total_optimal_rewards = np.zeros(self.total_episode)\n",
        "\n",
        "    for i in self.no_run: \n",
        "      for episode in range(self.total_episode):\n",
        "        t = 0\n",
        "        state1 = random.randint(0,47) \n",
        "        action = random.randint(0,3)\n",
        "        done = False\n",
        "        episode_return = 0\n",
        "        #record the starting point of this episode\n",
        "        first_state  = state1\n",
        "        first_action = action\n",
        "\n",
        "        #generate an episode\n",
        "        while t < self.max_steps and not done:\n",
        "            prob, state2, reward, done = env.P[state1][action][0]\n",
        "            episode_return += reward\n",
        "            state1 = state2\n",
        "            action = policy[state2]\n",
        "            #Updating timestep\n",
        "            t += 1\n",
        "        \n",
        "        #update Q at the end of an episode\n",
        "        N[first_state][first_action] += 1 \n",
        "        G[first_state][first_action] += episode_return\n",
        "        Q[first_state][first_action] = G[first_state][first_action]/N[first_state][first_action]\n",
        "\n",
        "        #update policy at the end of an episode\n",
        "        policy = np.argmax(Q, axis = -1)\n",
        "\n",
        "        #play the game once for evaluation\n",
        "        optimal_reward = self.play(Q)\n",
        "        total_optimal_rewards[episode] += optimal_reward\n",
        "      \n",
        "    return Q, total_optimal_rewards  \n",
        "  \n",
        "  # find best policy using the latest Q value\n",
        "  def best_policy(self, Q):\n",
        "    policy = np.argmax(Q, axis = -1)\n",
        "    actions = [\"^\", \">\", \"v\", \"<\"]\n",
        "    policy_arrows = [actions[i] for i in policy]\n",
        "    return pd.DataFrame(np.array(policy_arrows).reshape(4,12))\n",
        "  "
      ]
    },
    {
      "cell_type": "markdown",
      "metadata": {
        "id": "AVjeS6FqbALy"
      },
      "source": [
        "### Training and getting best policy"
      ]
    },
    {
      "cell_type": "code",
      "execution_count": 16,
      "metadata": {
        "colab": {
          "base_uri": "https://localhost:8080/",
          "height": 192
        },
        "id": "X4SpeZoXNL58",
        "outputId": "17ece3ff-ba4f-43eb-8cf0-d831f98e2aa7"
      },
      "outputs": [
        {
          "name": "stdout",
          "output_type": "stream",
          "text": [
            "Sarsas learning\n"
          ]
        },
        {
          "data": {
            "text/html": [
              "<div>\n",
              "<style scoped>\n",
              "    .dataframe tbody tr th:only-of-type {\n",
              "        vertical-align: middle;\n",
              "    }\n",
              "\n",
              "    .dataframe tbody tr th {\n",
              "        vertical-align: top;\n",
              "    }\n",
              "\n",
              "    .dataframe thead th {\n",
              "        text-align: right;\n",
              "    }\n",
              "</style>\n",
              "<table border=\"1\" class=\"dataframe\">\n",
              "  <thead>\n",
              "    <tr style=\"text-align: right;\">\n",
              "      <th></th>\n",
              "      <th>0</th>\n",
              "      <th>1</th>\n",
              "      <th>2</th>\n",
              "      <th>3</th>\n",
              "      <th>4</th>\n",
              "      <th>5</th>\n",
              "      <th>6</th>\n",
              "      <th>7</th>\n",
              "      <th>8</th>\n",
              "      <th>9</th>\n",
              "      <th>10</th>\n",
              "      <th>11</th>\n",
              "    </tr>\n",
              "  </thead>\n",
              "  <tbody>\n",
              "    <tr>\n",
              "      <th>0</th>\n",
              "      <td>&gt;</td>\n",
              "      <td>&gt;</td>\n",
              "      <td>&gt;</td>\n",
              "      <td>&gt;</td>\n",
              "      <td>&gt;</td>\n",
              "      <td>&gt;</td>\n",
              "      <td>&gt;</td>\n",
              "      <td>&gt;</td>\n",
              "      <td>&gt;</td>\n",
              "      <td>v</td>\n",
              "      <td>v</td>\n",
              "      <td>&gt;</td>\n",
              "    </tr>\n",
              "    <tr>\n",
              "      <th>1</th>\n",
              "      <td>&gt;</td>\n",
              "      <td>^</td>\n",
              "      <td>^</td>\n",
              "      <td>^</td>\n",
              "      <td>&gt;</td>\n",
              "      <td>&gt;</td>\n",
              "      <td>&gt;</td>\n",
              "      <td>^</td>\n",
              "      <td>^</td>\n",
              "      <td>&gt;</td>\n",
              "      <td>&gt;</td>\n",
              "      <td>v</td>\n",
              "    </tr>\n",
              "    <tr>\n",
              "      <th>2</th>\n",
              "      <td>^</td>\n",
              "      <td>^</td>\n",
              "      <td>^</td>\n",
              "      <td>^</td>\n",
              "      <td>^</td>\n",
              "      <td>^</td>\n",
              "      <td>^</td>\n",
              "      <td>^</td>\n",
              "      <td>^</td>\n",
              "      <td>^</td>\n",
              "      <td>&gt;</td>\n",
              "      <td>v</td>\n",
              "    </tr>\n",
              "    <tr>\n",
              "      <th>3</th>\n",
              "      <td>^</td>\n",
              "      <td>^</td>\n",
              "      <td>^</td>\n",
              "      <td>^</td>\n",
              "      <td>^</td>\n",
              "      <td>^</td>\n",
              "      <td>^</td>\n",
              "      <td>^</td>\n",
              "      <td>^</td>\n",
              "      <td>^</td>\n",
              "      <td>^</td>\n",
              "      <td>^</td>\n",
              "    </tr>\n",
              "  </tbody>\n",
              "</table>\n",
              "</div>"
            ],
            "text/plain": [
              "  0  1  2  3  4  5  6  7  8  9  10 11\n",
              "0  >  >  >  >  >  >  >  >  >  v  v  >\n",
              "1  >  ^  ^  ^  >  >  >  ^  ^  >  >  v\n",
              "2  ^  ^  ^  ^  ^  ^  ^  ^  ^  ^  >  v\n",
              "3  ^  ^  ^  ^  ^  ^  ^  ^  ^  ^  ^  ^"
            ]
          },
          "execution_count": 16,
          "metadata": {},
          "output_type": "execute_result"
        }
      ],
      "source": [
        "#create a sarsa agent object\n",
        "s1 = Sarsa()\n",
        "#learning\n",
        "Q, total_optimal_rewards_sarsa = s1.learning()\n",
        "#best policy after learning\n",
        "s1.best_policy(Q)\n",
        "\n"
      ]
    },
    {
      "cell_type": "code",
      "execution_count": 17,
      "metadata": {
        "colab": {
          "base_uri": "https://localhost:8080/",
          "height": 192
        },
        "id": "Jw8KFraLUrRr",
        "outputId": "4703f711-e068-4b73-f2db-fb94888e2b7a"
      },
      "outputs": [
        {
          "name": "stdout",
          "output_type": "stream",
          "text": [
            "Q-Learning learning\n"
          ]
        },
        {
          "data": {
            "text/html": [
              "<div>\n",
              "<style scoped>\n",
              "    .dataframe tbody tr th:only-of-type {\n",
              "        vertical-align: middle;\n",
              "    }\n",
              "\n",
              "    .dataframe tbody tr th {\n",
              "        vertical-align: top;\n",
              "    }\n",
              "\n",
              "    .dataframe thead th {\n",
              "        text-align: right;\n",
              "    }\n",
              "</style>\n",
              "<table border=\"1\" class=\"dataframe\">\n",
              "  <thead>\n",
              "    <tr style=\"text-align: right;\">\n",
              "      <th></th>\n",
              "      <th>0</th>\n",
              "      <th>1</th>\n",
              "      <th>2</th>\n",
              "      <th>3</th>\n",
              "      <th>4</th>\n",
              "      <th>5</th>\n",
              "      <th>6</th>\n",
              "      <th>7</th>\n",
              "      <th>8</th>\n",
              "      <th>9</th>\n",
              "      <th>10</th>\n",
              "      <th>11</th>\n",
              "    </tr>\n",
              "  </thead>\n",
              "  <tbody>\n",
              "    <tr>\n",
              "      <th>0</th>\n",
              "      <td>v</td>\n",
              "      <td>&gt;</td>\n",
              "      <td>&gt;</td>\n",
              "      <td>&gt;</td>\n",
              "      <td>&gt;</td>\n",
              "      <td>&gt;</td>\n",
              "      <td>&gt;</td>\n",
              "      <td>&gt;</td>\n",
              "      <td>&gt;</td>\n",
              "      <td>&gt;</td>\n",
              "      <td>&gt;</td>\n",
              "      <td>v</td>\n",
              "    </tr>\n",
              "    <tr>\n",
              "      <th>1</th>\n",
              "      <td>&gt;</td>\n",
              "      <td>&gt;</td>\n",
              "      <td>&gt;</td>\n",
              "      <td>&gt;</td>\n",
              "      <td>&gt;</td>\n",
              "      <td>&gt;</td>\n",
              "      <td>&gt;</td>\n",
              "      <td>&gt;</td>\n",
              "      <td>&gt;</td>\n",
              "      <td>&gt;</td>\n",
              "      <td>&gt;</td>\n",
              "      <td>v</td>\n",
              "    </tr>\n",
              "    <tr>\n",
              "      <th>2</th>\n",
              "      <td>&gt;</td>\n",
              "      <td>&gt;</td>\n",
              "      <td>&gt;</td>\n",
              "      <td>&gt;</td>\n",
              "      <td>&gt;</td>\n",
              "      <td>&gt;</td>\n",
              "      <td>&gt;</td>\n",
              "      <td>&gt;</td>\n",
              "      <td>&gt;</td>\n",
              "      <td>&gt;</td>\n",
              "      <td>&gt;</td>\n",
              "      <td>v</td>\n",
              "    </tr>\n",
              "    <tr>\n",
              "      <th>3</th>\n",
              "      <td>^</td>\n",
              "      <td>^</td>\n",
              "      <td>^</td>\n",
              "      <td>^</td>\n",
              "      <td>^</td>\n",
              "      <td>^</td>\n",
              "      <td>^</td>\n",
              "      <td>^</td>\n",
              "      <td>^</td>\n",
              "      <td>^</td>\n",
              "      <td>^</td>\n",
              "      <td>^</td>\n",
              "    </tr>\n",
              "  </tbody>\n",
              "</table>\n",
              "</div>"
            ],
            "text/plain": [
              "  0  1  2  3  4  5  6  7  8  9  10 11\n",
              "0  v  >  >  >  >  >  >  >  >  >  >  v\n",
              "1  >  >  >  >  >  >  >  >  >  >  >  v\n",
              "2  >  >  >  >  >  >  >  >  >  >  >  v\n",
              "3  ^  ^  ^  ^  ^  ^  ^  ^  ^  ^  ^  ^"
            ]
          },
          "execution_count": 17,
          "metadata": {},
          "output_type": "execute_result"
        }
      ],
      "source": [
        "#create a Q-learning agent object\n",
        "q1 = Q_Learning()\n",
        "#learning\n",
        "Q, total_optimal_rewards_q = q1.learning()\n",
        "#best policy after learning\n",
        "q1.best_policy(Q)"
      ]
    },
    {
      "cell_type": "code",
      "execution_count": 15,
      "metadata": {},
      "outputs": [
        {
          "data": {
            "text/html": [
              "<div>\n",
              "<style scoped>\n",
              "    .dataframe tbody tr th:only-of-type {\n",
              "        vertical-align: middle;\n",
              "    }\n",
              "\n",
              "    .dataframe tbody tr th {\n",
              "        vertical-align: top;\n",
              "    }\n",
              "\n",
              "    .dataframe thead th {\n",
              "        text-align: right;\n",
              "    }\n",
              "</style>\n",
              "<table border=\"1\" class=\"dataframe\">\n",
              "  <thead>\n",
              "    <tr style=\"text-align: right;\">\n",
              "      <th></th>\n",
              "      <th>0</th>\n",
              "      <th>1</th>\n",
              "      <th>2</th>\n",
              "      <th>3</th>\n",
              "      <th>4</th>\n",
              "      <th>5</th>\n",
              "      <th>6</th>\n",
              "      <th>7</th>\n",
              "      <th>8</th>\n",
              "      <th>9</th>\n",
              "      <th>10</th>\n",
              "      <th>11</th>\n",
              "    </tr>\n",
              "  </thead>\n",
              "  <tbody>\n",
              "    <tr>\n",
              "      <th>0</th>\n",
              "      <td>&gt;</td>\n",
              "      <td>&gt;</td>\n",
              "      <td>&gt;</td>\n",
              "      <td>&gt;</td>\n",
              "      <td>v</td>\n",
              "      <td>&gt;</td>\n",
              "      <td>&gt;</td>\n",
              "      <td>&gt;</td>\n",
              "      <td>v</td>\n",
              "      <td>&gt;</td>\n",
              "      <td>v</td>\n",
              "      <td>v</td>\n",
              "    </tr>\n",
              "    <tr>\n",
              "      <th>1</th>\n",
              "      <td>&gt;</td>\n",
              "      <td>&gt;</td>\n",
              "      <td>&gt;</td>\n",
              "      <td>&gt;</td>\n",
              "      <td>&gt;</td>\n",
              "      <td>&gt;</td>\n",
              "      <td>&gt;</td>\n",
              "      <td>&gt;</td>\n",
              "      <td>&gt;</td>\n",
              "      <td>v</td>\n",
              "      <td>v</td>\n",
              "      <td>v</td>\n",
              "    </tr>\n",
              "    <tr>\n",
              "      <th>2</th>\n",
              "      <td>&gt;</td>\n",
              "      <td>^</td>\n",
              "      <td>&gt;</td>\n",
              "      <td>^</td>\n",
              "      <td>^</td>\n",
              "      <td>^</td>\n",
              "      <td>&gt;</td>\n",
              "      <td>&gt;</td>\n",
              "      <td>&gt;</td>\n",
              "      <td>&gt;</td>\n",
              "      <td>&gt;</td>\n",
              "      <td>v</td>\n",
              "    </tr>\n",
              "    <tr>\n",
              "      <th>3</th>\n",
              "      <td>^</td>\n",
              "      <td>^</td>\n",
              "      <td>^</td>\n",
              "      <td>^</td>\n",
              "      <td>^</td>\n",
              "      <td>^</td>\n",
              "      <td>^</td>\n",
              "      <td>^</td>\n",
              "      <td>^</td>\n",
              "      <td>^</td>\n",
              "      <td>&gt;</td>\n",
              "      <td>&gt;</td>\n",
              "    </tr>\n",
              "  </tbody>\n",
              "</table>\n",
              "</div>"
            ],
            "text/plain": [
              "  0  1  2  3  4  5  6  7  8  9  10 11\n",
              "0  >  >  >  >  v  >  >  >  v  >  v  v\n",
              "1  >  >  >  >  >  >  >  >  >  v  v  v\n",
              "2  >  ^  >  ^  ^  ^  >  >  >  >  >  v\n",
              "3  ^  ^  ^  ^  ^  ^  ^  ^  ^  ^  >  >"
            ]
          },
          "execution_count": 15,
          "metadata": {},
          "output_type": "execute_result"
        }
      ],
      "source": [
        "#create a MC agent object\n",
        "m1 = MonteCarlo()\n",
        "#learning\n",
        "Q, total_optimal_rewards_m = m1.learning()\n",
        "#best policy after learning\n",
        "m1.best_policy(Q)"
      ]
    },
    {
      "cell_type": "markdown",
      "metadata": {
        "id": "HKxcYDPkbYpc"
      },
      "source": [
        "### Comparison between MC,TD algorithms"
      ]
    },
    {
      "cell_type": "code",
      "execution_count": 19,
      "metadata": {
        "colab": {
          "base_uri": "https://localhost:8080/",
          "height": 421
        },
        "id": "moXmnYlEhFU1",
        "outputId": "20565b59-93d4-4437-f16a-b46eb94d2110"
      },
      "outputs": [
        {
          "data": {
            "text/plain": [
              "<matplotlib.legend.Legend at 0x24a2199e1c0>"
            ]
          },
          "execution_count": 19,
          "metadata": {},
          "output_type": "execute_result"
        },
        {
          "data": {
            "image/png": "[encoded data removed]",
            "text/plain": [
              "<Figure size 600x400 with 1 Axes>"
            ]
          },
          "metadata": {
            "needs_background": "light"
          },
          "output_type": "display_data"
        }
      ],
      "source": [
        "fig = plt.figure(dpi=100)\n",
        "ax = plt.axes()\n",
        "all_matrix = np.array([total_optimal_rewards_q, total_optimal_rewards_sarsa, total_optimal_rewards_m]).transpose()\n",
        "df = pd.DataFrame(all_matrix, columns = [\"Q-learning\", \"Sarsa\", \"MC\"])\n",
        "df[\"Q-learning\"] /= 100\n",
        "df[\"Sarsa\"] /= 100\n",
        "df[\"MC\"] /= 100\n",
        "df['MA_Q-learning'] = df[\"Q-learning\"].rolling(window=3).mean()\n",
        "df['MA_Sarsa'] = df[\"Sarsa\"].rolling(window=3).mean()\n",
        "df['MA_MC'] = df[\"MC\"].rolling(window=3).mean()\n",
        "\n",
        "ax = sns.lineplot(data=df, x = df.index, y = \"MA_Q-learning\")\n",
        "ax = sns.lineplot(data=df, x = df.index, y = \"MA_Sarsa\")\n",
        "ax = sns.lineplot(data=df, x = df.index, y = \"MA_MC\")\n",
        "ax.set(title=\"Cliff walking\", xlabel=\"Episodes\", ylabel = \"Sum of rewards per episode\", yticks = range(-150, -20, 25))\n",
        "ax.set_ylim(-150,-20)\n",
        "ax.legend([\"Q-learning\", \"Sarsa\", \"MC\"])"
      ]
    }
  ],
  "metadata": {
    "colab": {
      "collapsed_sections": [],
      "name": "SARSA + Q-Learning_v2.ipynb",
      "provenance": []
    },
    "kernelspec": {
      "display_name": "Python 3",
      "name": "python3"
    },
    "language_info": {
      "codemirror_mode": {
        "name": "ipython",
        "version": 3
      },
      "file_extension": ".py",
      "mimetype": "text/x-python",
      "name": "python",
      "nbconvert_exporter": "python",
      "pygments_lexer": "ipython3",
      "version": "3.9.2"
    }
  },
  "nbformat": 4,
  "nbformat_minor": 0
}
