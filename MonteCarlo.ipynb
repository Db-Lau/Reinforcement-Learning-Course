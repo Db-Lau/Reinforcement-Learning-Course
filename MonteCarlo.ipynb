{
  "cells": [
    {
      "cell_type": "markdown",
      "metadata": {
        "id": "_KLURrYHycqD"
      },
      "source": [
        "# Set up"
      ]
    },
    {
      "cell_type": "code",
      "execution_count": 1,
      "metadata": {},
      "outputs": [],
      "source": [
        "import gym\n",
        "import numpy as np\n",
        "import matplotlib.pyplot as plt\n",
        "import random\n",
        "import pandas as pd\n",
        "import seaborn as sns\n",
        "\n",
        "env = gym.make('CliffWalking-v0')"
      ]
    },
    {
      "cell_type": "markdown",
      "metadata": {
        "id": "hY-nBquS4S4j"
      },
      "source": [
        "# Monte Carlo Method (with Exploring Start)"
      ]
    },
    {
      "cell_type": "code",
      "execution_count": 2,
      "metadata": {
        "id": "NYLjRZPg4cQj"
      },
      "outputs": [],
      "source": [
        "class MonteCarlo:\n",
        "  def __init__(self, epsilon = 0.1, max_steps = 70, total_episode = 500, no_run = 101):\n",
        "    self.epsilon, self.max_steps, self.total_episode = epsilon, max_steps, total_episode\n",
        "    self.no_run = list(range(1,no_run))\n",
        "\n",
        "  #choose action with epsilon greedy policy\n",
        "  def choose_action(self, Q, state):\n",
        "    if np.random.uniform(0, 1) < self.epsilon:\n",
        "        action = env.action_space.sample()\n",
        "    else:\n",
        "        action = np.argmax(Q[state, :])\n",
        "    return action\n",
        "\n",
        "  def play(self, Q): \n",
        "    t = 0\n",
        "    state1 = env.reset() \n",
        "    done = False\n",
        "    optimal_reward = 0\n",
        "\n",
        "    while t < self.max_steps and not done:\n",
        "      action1 = self.choose_action(Q, state1)\n",
        "      state2, reward, done, info = env.step(action1)\n",
        "      state1= state2\n",
        "      t += 1\n",
        "      optimal_reward += reward\n",
        "    return optimal_reward\n",
        "\n",
        "  def learning(self):\n",
        "    #initialize the Q-matrix \n",
        "    Q = np.zeros((env.observation_space.n, env.action_space.n))\n",
        "    #intialize a random policy\n",
        "    policy = []\n",
        "    for i in range(0,48):\n",
        "      n = random.randint(0,3)\n",
        "      policy.append(n)\n",
        "    #create an empty list to store returns for state-action pairs\n",
        "    G = np.zeros((env.observation_space.n, env.action_space.n))\n",
        "    #create an empty list to store the no. of times a state-action pair has been visited\n",
        "    N = np.zeros((env.observation_space.n, env.action_space.n))\n",
        "    total_optimal_rewards = np.zeros(self.total_episode)\n",
        "\n",
        "    for i in self.no_run: \n",
        "      for episode in range(self.total_episode):\n",
        "        t = 0\n",
        "        state1 = random.randint(0,47) \n",
        "        action = random.randint(0,3)\n",
        "        done = False\n",
        "        episode_return = 0\n",
        "        #record the starting point of this episode\n",
        "        first_state  = state1\n",
        "        first_action = action\n",
        "\n",
        "        #generate an episode\n",
        "        while t < self.max_steps and not done:\n",
        "            prob, state2, reward, done = env.P[state1][action][0]\n",
        "            episode_return += reward\n",
        "            state1 = state2\n",
        "            action = policy[state2]\n",
        "            #Updating timestep\n",
        "            t += 1\n",
        "        \n",
        "        #update Q at the end of an episode\n",
        "        N[first_state][first_action] += 1 \n",
        "        G[first_state][first_action] += episode_return\n",
        "        Q[first_state][first_action] = G[first_state][first_action]/N[first_state][first_action]\n",
        "\n",
        "        #update policy at the end of an episode\n",
        "        policy = np.argmax(Q, axis = -1)\n",
        "\n",
        "        #play the game once for evaluation\n",
        "        optimal_reward = self.play(Q)\n",
        "        total_optimal_rewards[episode] += optimal_reward\n",
        "      \n",
        "      return Q, total_optimal_rewards  \n",
        "  \n",
        "  # find best policy using the latest Q value\n",
        "  def best_policy(self, Q):\n",
        "    policy = np.argmax(Q, axis = -1)\n",
        "    actions = [\"^\", \">\", \"v\", \"<\"]\n",
        "    policy_arrows = [actions[i] for i in policy]\n",
        "    return pd.DataFrame(np.array(policy_arrows).reshape(4,12))\n",
        "  "
      ]
    },
    {
      "cell_type": "markdown",
      "metadata": {},
      "source": [
        "# Training"
      ]
    },
    {
      "cell_type": "code",
      "execution_count": 4,
      "metadata": {
        "id": "qdQBZBC9U7K1"
      },
      "outputs": [
        {
          "data": {
            "text/html": [
              "<div>\n",
              "<style scoped>\n",
              "    .dataframe tbody tr th:only-of-type {\n",
              "        vertical-align: middle;\n",
              "    }\n",
              "\n",
              "    .dataframe tbody tr th {\n",
              "        vertical-align: top;\n",
              "    }\n",
              "\n",
              "    .dataframe thead th {\n",
              "        text-align: right;\n",
              "    }\n",
              "</style>\n",
              "<table border=\"1\" class=\"dataframe\">\n",
              "  <thead>\n",
              "    <tr style=\"text-align: right;\">\n",
              "      <th></th>\n",
              "      <th>0</th>\n",
              "      <th>1</th>\n",
              "      <th>2</th>\n",
              "      <th>3</th>\n",
              "      <th>4</th>\n",
              "      <th>5</th>\n",
              "      <th>6</th>\n",
              "      <th>7</th>\n",
              "      <th>8</th>\n",
              "      <th>9</th>\n",
              "      <th>10</th>\n",
              "      <th>11</th>\n",
              "    </tr>\n",
              "  </thead>\n",
              "  <tbody>\n",
              "    <tr>\n",
              "      <th>0</th>\n",
              "      <td>^</td>\n",
              "      <td>v</td>\n",
              "      <td>^</td>\n",
              "      <td>^</td>\n",
              "      <td>&lt;</td>\n",
              "      <td>&gt;</td>\n",
              "      <td>^</td>\n",
              "      <td>^</td>\n",
              "      <td>&lt;</td>\n",
              "      <td>^</td>\n",
              "      <td>^</td>\n",
              "      <td>^</td>\n",
              "    </tr>\n",
              "    <tr>\n",
              "      <th>1</th>\n",
              "      <td>v</td>\n",
              "      <td>^</td>\n",
              "      <td>&gt;</td>\n",
              "      <td>^</td>\n",
              "      <td>^</td>\n",
              "      <td>^</td>\n",
              "      <td>^</td>\n",
              "      <td>^</td>\n",
              "      <td>^</td>\n",
              "      <td>^</td>\n",
              "      <td>^</td>\n",
              "      <td>^</td>\n",
              "    </tr>\n",
              "    <tr>\n",
              "      <th>2</th>\n",
              "      <td>^</td>\n",
              "      <td>^</td>\n",
              "      <td>&gt;</td>\n",
              "      <td>^</td>\n",
              "      <td>^</td>\n",
              "      <td>^</td>\n",
              "      <td>&gt;</td>\n",
              "      <td>^</td>\n",
              "      <td>^</td>\n",
              "      <td>^</td>\n",
              "      <td>&gt;</td>\n",
              "      <td>v</td>\n",
              "    </tr>\n",
              "    <tr>\n",
              "      <th>3</th>\n",
              "      <td>^</td>\n",
              "      <td>&gt;</td>\n",
              "      <td>^</td>\n",
              "      <td>^</td>\n",
              "      <td>^</td>\n",
              "      <td>^</td>\n",
              "      <td>^</td>\n",
              "      <td>^</td>\n",
              "      <td>^</td>\n",
              "      <td>^</td>\n",
              "      <td>^</td>\n",
              "      <td>&gt;</td>\n",
              "    </tr>\n",
              "  </tbody>\n",
              "</table>\n",
              "</div>"
            ],
            "text/plain": [
              "  0  1  2  3  4  5  6  7  8  9  10 11\n",
              "0  ^  v  ^  ^  <  >  ^  ^  <  ^  ^  ^\n",
              "1  v  ^  >  ^  ^  ^  ^  ^  ^  ^  ^  ^\n",
              "2  ^  ^  >  ^  ^  ^  >  ^  ^  ^  >  v\n",
              "3  ^  >  ^  ^  ^  ^  ^  ^  ^  ^  ^  >"
            ]
          },
          "execution_count": 4,
          "metadata": {},
          "output_type": "execute_result"
        }
      ],
      "source": [
        "m1 = MonteCarlo()\n",
        "Q_m, total_optimal_rewards_m = m1.learning()\n",
        "m1.best_policy(Q_m)\n"
      ]
    },
    {
      "cell_type": "markdown",
      "metadata": {},
      "source": [
        "# Evaluation of Monte Carlo"
      ]
    },
    {
      "cell_type": "code",
      "execution_count": 5,
      "metadata": {},
      "outputs": [
        {
          "data": {
            "text/plain": [
              "<matplotlib.legend.Legend at 0x23150680fd0>"
            ]
          },
          "execution_count": 5,
          "metadata": {},
          "output_type": "execute_result"
        },
        {
          "data": {
            "image/png": "[encoded data removed]",
            "text/plain": [
              "<Figure size 600x400 with 1 Axes>"
            ]
          },
          "metadata": {
            "needs_background": "light"
          },
          "output_type": "display_data"
        }
      ],
      "source": [
        "fig = plt.figure(dpi=100)\n",
        "\n",
        "total_optimal_rewards_q = np.zeros(500)\n",
        "\n",
        "ax = plt.axes()\n",
        "q_sarsa_matrix = np.array([total_optimal_rewards_q, total_optimal_rewards_m]).transpose()\n",
        "df = pd.DataFrame(q_sarsa_matrix, columns = [\"Q-learning\", \"Monte Carlo\"])\n",
        "\n",
        "ax = sns.lineplot(data=df, x = df.index, y = \"Q-learning\")\n",
        "ax = sns.lineplot(data=df, x = df.index, y = \"Monte Carlo\")\n",
        "ax.set(title=\"Cliff walking\", xlabel=\"Episodes\", ylabel = \"Sum of rewards per episode\", yticks = range(-100, -20, 25))\n",
        "ax.set_ylim(-100,-20)\n",
        "ax.legend([\"Q-learning\", \"Monte Carlo\"])"
      ]
    }
  ],
  "metadata": {
    "colab": {
      "collapsed_sections": [],
      "name": "SMARTER_RL_1-Value_Policy_Iteration_Edited.ipynb",
      "provenance": []
    },
    "kernelspec": {
      "display_name": "Python 3",
      "name": "python3"
    },
    "language_info": {
      "codemirror_mode": {
        "name": "ipython",
        "version": 3
      },
      "file_extension": ".py",
      "mimetype": "text/x-python",
      "name": "python",
      "nbconvert_exporter": "python",
      "pygments_lexer": "ipython3",
      "version": "3.9.2"
    }
  },
  "nbformat": 4,
  "nbformat_minor": 0
}
